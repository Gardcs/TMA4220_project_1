{
 "cells": [
  {
   "cell_type": "code",
   "execution_count": 1,
   "metadata": {},
   "outputs": [],
   "source": [
    "import numpy as np"
   ]
  },
  {
   "cell_type": "markdown",
   "metadata": {},
   "source": [
    "## 1.1 1D quadrature"
   ]
  },
  {
   "cell_type": "code",
   "execution_count": 14,
   "metadata": {},
   "outputs": [],
   "source": [
    "def quadrature1D(a, b, N_q, g):\n",
    "    \n",
    "    #Setting integration points and weigths\n",
    "    if(N_q == 1):\n",
    "        z = np.array([0])\n",
    "        rho = np.array([2])\n",
    "    \n",
    "    elif(N_q == 2):\n",
    "        z = np.array([-1/np.sqrt(3), 1/np.sqrt(3)])\n",
    "        rho = np.array([1, 1])\n",
    "    \n",
    "    elif(N_q == 3):\n",
    "        z = np.array([-np.sqrt(3/5), 0, np.sqrt(3/5)])\n",
    "        rho = np.array([5/9, 8/9, 5/9])\n",
    "    \n",
    "    elif(N_q == 4):\n",
    "        z = np.array([-np.sqrt(3/7 + (2/7)*np.sqrt(6/5)), -np.sqrt(3/7 - (2/7)*np.sqrt(6/5)), \n",
    "                      np.sqrt(3/7 - (2/7)*np.sqrt(6/5)), np.sqrt(3/7 + (2/7)*np.sqrt(6/5))])\n",
    "        rho = np.array([(18-np.sqrt(30))/36, (18+np.sqrt(30))/36, (18+np.sqrt(30))/36, (18-np.sqrt(30))/36])\n",
    "    \n",
    "    else:\n",
    "        print(\"Not a valid number of integration points\")\n",
    "        return\n",
    "    \n",
    "    #Scaling integration points\n",
    "    z = (z * (b-a)/2) + (b+a)/2\n",
    "    \n",
    "    #Calculate value of integral \n",
    "    I = np.sum(rho*g(z)*(b-a)/2) #Multiplying with (b-a)/2 beacous of the boundary changes for the integral\n",
    "    \n",
    "    return(I)"
   ]
  },
  {
   "cell_type": "code",
   "execution_count": 16,
   "metadata": {},
   "outputs": [
    {
     "name": "stdout",
     "output_type": "stream",
     "text": [
      "4.4816890703380645\n",
      "4.669726507513409\n",
      "4.670772030372183\n",
      "4.6707742679355375\n"
     ]
    }
   ],
   "source": [
    "f = lambda x: np.exp(x)\n",
    "print(quadrature1D(1, 2, 1, f))\n",
    "print(quadrature1D(1, 2, 2, f))\n",
    "print(quadrature1D(1, 2, 3, f))\n",
    "print(quadrature1D(1, 2, 4, f))"
   ]
  },
  {
   "cell_type": "markdown",
   "metadata": {},
   "source": [
    "$\\int_1^2 e^x dx = [e^x]_1^2 = e^2 - e^1 \\approx 4.67$ \n",
    "Thus the method works with this example."
   ]
  },
  {
   "cell_type": "markdown",
   "metadata": {},
   "source": [
    "## 1.2 2D quadrature"
   ]
  },
  {
   "cell_type": "code",
   "execution_count": 18,
   "metadata": {},
   "outputs": [],
   "source": [
    "def quadrature2D(p_1, p_2, p_3, N_q, g):\n",
    "    \n",
    "    #Setting integration points and weights\n",
    "    if(N_q == 1):\n",
    "        z = np.array([np.array([1/3, 1/3, 1/3])])\n",
    "        rho = np.array([1])\n",
    "    elif(N_q == 3):\n",
    "        z = np.array([np.array([1/2, 1/2, 0]), np.array([1/2, 0, 1/2]), np.array([0, 1/2, 1/2])])\n",
    "        rho = np.array([1/3, 1/3, 1/3])\n",
    "    elif(N_q == 4):\n",
    "        z = np.array([np.array([1/3, 1/3, 1/3]), np.array([3/5, 1/5, 1/5]),\n",
    "                    np.array([1/5, 3/5, 1/5]), np.array([1/5, 1/5, 3/5])])\n",
    "        rho = np.array([-9/16, 25/48, 25/48, 25/48])\n",
    "    else:\n",
    "        print(\"Not a valid number of integration points\")\n",
    "        return\n",
    "    \n",
    "    for i in z:\n",
    "        i = np.sum(z * np.array([p_1, p_2, p_3]))\n",
    "    \n",
    "    I = np.sum(rho * g(z))\n",
    "    \n",
    "    return(I)"
   ]
  }
 ],
 "metadata": {
  "kernelspec": {
   "display_name": "Python 3",
   "language": "python",
   "name": "python3"
  },
  "language_info": {
   "codemirror_mode": {
    "name": "ipython",
    "version": 3
   },
   "file_extension": ".py",
   "mimetype": "text/x-python",
   "name": "python",
   "nbconvert_exporter": "python",
   "pygments_lexer": "ipython3",
   "version": "3.8.5"
  }
 },
 "nbformat": 4,
 "nbformat_minor": 4
}
